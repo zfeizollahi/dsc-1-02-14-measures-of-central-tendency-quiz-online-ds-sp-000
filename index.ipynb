{
 "cells": [
  {
   "cell_type": "markdown",
   "metadata": {},
   "source": [
    "# Measures of Central Tendency - Quiz\n",
    "\n",
    "## Objectives\n",
    "You will be able to:\n",
    "* Understand and describe the significance of measuring central tendency of continuous data\n",
    "* Understand the formula and intuition behind the mean, median, mode and modal class\n",
    "* Compare mean-median-mode, along with histograms to explain the central tendency of given data"
   ]
  },
  {
   "cell_type": "markdown",
   "metadata": {},
   "source": [
    "**Note, for these exercises, you do not need to write code to answer them - we'll do that later. Just do them by hand or with a calculator to make sure you're comfortable with the process of calculating the answers!**\n",
    "\n",
    "### Exercise 1\n",
    "Calculate the mean, median and mode for this data set: \n",
    "```\n",
    "19, 18, 21, 16, 15, 17, 20, 18\n",
    "```\n",
    "While comparing the results of three measures, comment about this distribution. "
   ]
  },
  {
   "cell_type": "code",
   "execution_count": 3,
   "metadata": {},
   "outputs": [],
   "source": [
    "import numpy as np\n",
    "from scipy import stats"
   ]
  },
  {
   "cell_type": "code",
   "execution_count": 24,
   "metadata": {},
   "outputs": [
    {
     "name": "stdout",
     "output_type": "stream",
     "text": [
      "[15, 16, 17, 18, 18, 19, 20, 21]\n",
      "Mean is  18.0\n",
      "Median is  18.0\n",
      "Mode is 18\n"
     ]
    }
   ],
   "source": [
    "# Your answer here \n",
    "my_list = [19, 18, 21, 16, 15, 17, 20, 18]\n",
    "print(sorted(my_list))\n",
    "print(\"Mean is \", np.mean(my_list))\n",
    "print(\"Median is \", np.median(my_list))\n",
    "print(\"Mode is\", stats.mode(my_list)[0][0])"
   ]
  },
  {
   "cell_type": "markdown",
   "metadata": {},
   "source": [
    "Taking the average/mean gives us 18.\n",
    "There are 8 elements total, which means the median will be the average of the 4th and 5th elements, both of which are 18, making the median also 18.\n",
    "18 occurs twice, making it the mode.\n",
    "The dataset is perfectly normal distribution. Having the three different central tendency measures doesn't really show us how these measures are different. One might be tempted to not report all three metrics for other datasets if you based the difference off of these numbers for this dataset."
   ]
  },
  {
   "cell_type": "markdown",
   "metadata": {},
   "source": [
    "### Exercise 2\n",
    "\n",
    "Calculate the mean, median and mode for given distribution and state which of these measures does not describe the \"middle\" of this data set? and why ?\n",
    "```\n",
    "100, 99, 97, 97, 96, 98, 95, 72\n",
    "```"
   ]
  },
  {
   "cell_type": "code",
   "execution_count": 26,
   "metadata": {},
   "outputs": [
    {
     "name": "stdout",
     "output_type": "stream",
     "text": [
      "[72, 95, 96, 97, 97, 98, 99, 100]\n",
      "Mean is  94.25\n",
      "Median is  97.0\n",
      "Mode is 97\n"
     ]
    }
   ],
   "source": [
    "# Your answer here \n",
    "my_list = [100, 99, 97, 97, 96, 98, 95, 72]\n",
    "print(sorted(my_list))\n",
    "print(\"Mean is \", np.mean(my_list))\n",
    "print(\"Median is \", np.median(my_list))\n",
    "print(\"Mode is\", stats.mode(my_list)[0][0])"
   ]
  },
  {
   "cell_type": "markdown",
   "metadata": {},
   "source": [
    "The mean is much lower than the median and mode, suggesting a skewed distribution. We see that 72 is an outlier and is pulling the mean down. Median and Mode both show 97 as the \"middle\" measures, which more accurately shows the central tendency which is upper 90s."
   ]
  },
  {
   "cell_type": "markdown",
   "metadata": {},
   "source": [
    "### Exercise 3\n",
    "On the first three days of his bookshop opening, Joe sold 15, 18, and 16 books (He initially hoped that he would sell 17 books every day).  How many books does he need to sell on the next day to have a mean sale of 17?"
   ]
  },
  {
   "cell_type": "code",
   "execution_count": 27,
   "metadata": {},
   "outputs": [
    {
     "data": {
      "text/plain": [
       "19"
      ]
     },
     "execution_count": 27,
     "metadata": {},
     "output_type": "execute_result"
    }
   ],
   "source": [
    "# Your answer here \n",
    "#17 = (15 + 18 + 16 + X) / 4\n",
    "#17 = (15 + 18 + 16) / 4 + X / 4\n",
    "#- X / 4 + 17 = (15 + 18 + 16) / 4\n",
    "#- X / 4 = (15 + 18 + 16) / 4 - 17\n",
    "#X / 4 =  - (15 + 18 + 16) / 4 + 17\n",
    "X =  - (15 + 18 + 16)  + 17 * 4\n",
    "X"
   ]
  },
  {
   "cell_type": "markdown",
   "metadata": {},
   "source": [
    "### Exercise 4\n",
    "The histograms show the amount of time (hours per day) spent on Facebook by 46 middle school girls and 40 middle school boys from a school in San Francisco. A total of 50 boys and 50 girls took the survey, 4 girls and 10 boys did not use Facebook at all. \n",
    "Each is graphed with a bin width of 0.25 hours.\n",
    "\n",
    "![](boys.png)\n",
    "![](girls.png)\n",
    "\n",
    "Looking at these histograms, answer following questions. \n",
    "\n",
    "*Hint: For most parts, you will have to figure out the location of required bins and count the frequencies. *\n",
    "\n",
    "#### How many boys spend more than 1.5 hours/day on Facebook?\n"
   ]
  },
  {
   "cell_type": "code",
   "execution_count": 1,
   "metadata": {},
   "outputs": [
    {
     "data": {
      "text/plain": [
       "8"
      ]
     },
     "execution_count": 1,
     "metadata": {},
     "output_type": "execute_result"
    }
   ],
   "source": [
    "# Your answer here \n",
    "8"
   ]
  },
  {
   "cell_type": "markdown",
   "metadata": {},
   "source": [
    "#### Compare the percentage of boys and girls that spend more than zero but less than 1 hour/day on Facebook."
   ]
  },
  {
   "cell_type": "code",
   "execution_count": 29,
   "metadata": {},
   "outputs": [
    {
     "name": "stdout",
     "output_type": "stream",
     "text": [
      "Boys  50.0\n",
      "Girls  21.73913043478261\n"
     ]
    }
   ],
   "source": [
    "# Your answer here \n",
    "boys = 20 / 40 * 100\n",
    "girls = 10  / 46 * 100\n",
    "print(\"Boys \", boys)\n",
    "print(\"Girls \", girls)"
   ]
  },
  {
   "cell_type": "markdown",
   "metadata": {},
   "source": [
    "#### Find the bin where the median of the boys' data set lies."
   ]
  },
  {
   "cell_type": "markdown",
   "metadata": {},
   "source": [
    "#### Your answer here \n",
    "Bin with 1 hour or average between .75 - 1, and 1-1.25. Making median 1 hour."
   ]
  },
  {
   "cell_type": "markdown",
   "metadata": {},
   "source": [
    "#### In terms of Facebook usage times based on given data, what can you conclude about usage habits of boys and girls?"
   ]
  },
  {
   "cell_type": "markdown",
   "metadata": {},
   "source": [
    "#### Your answer here \n",
    "Girls spend more time on on facebook."
   ]
  },
  {
   "cell_type": "code",
   "execution_count": null,
   "metadata": {},
   "outputs": [],
   "source": []
  }
 ],
 "metadata": {
  "kernelspec": {
   "display_name": "Python 3",
   "language": "python",
   "name": "python3"
  },
  "language_info": {
   "codemirror_mode": {
    "name": "ipython",
    "version": 3
   },
   "file_extension": ".py",
   "mimetype": "text/x-python",
   "name": "python",
   "nbconvert_exporter": "python",
   "pygments_lexer": "ipython3",
   "version": "3.6.6"
  }
 },
 "nbformat": 4,
 "nbformat_minor": 2
}
